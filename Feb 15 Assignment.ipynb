{
 "cells": [
  {
   "cell_type": "markdown",
   "id": "13b53c92-4273-4f84-9af2-c5bbb65fcbad",
   "metadata": {},
   "source": [
    "##Q1. What is multiprocessing in python? Why is it useful?"
   ]
  },
  {
   "cell_type": "markdown",
   "id": "f5169786-ca18-4cb2-8158-7157db40911b",
   "metadata": {},
   "source": [
    "Ans : The multiprocessing package offers both local and remote concurrency, effectively side-stepping the Global Interpreter Lock by using subprocesses instead of threads. Due to this, the multiprocessing module allows the programmer to fully leverage multiple processors on a given machine."
   ]
  },
  {
   "cell_type": "markdown",
   "id": "adde4f5d-dd64-47bc-9f9d-1853a8527b10",
   "metadata": {},
   "source": [
    "##Q2. What are the differences between multiprocessing and multithreading?"
   ]
  },
  {
   "cell_type": "markdown",
   "id": "0eaceb78-8558-400c-bd7b-7693ec4db72b",
   "metadata": {},
   "source": [
    "Ans : Multiprocessing uses two or more CPUs to increase computing power, whereas multithreading uses a single process with multiple code segments to increase computing power. Multithreading focuses on generating computing threads from a single process, whereas multiprocessing increases computing power by adding CPUs."
   ]
  },
  {
   "cell_type": "markdown",
   "id": "4e0700dc-75ea-4d41-9c9b-f04cae43132c",
   "metadata": {},
   "source": [
    "##Q3. Write a python code to create a process using the multiprocessing module."
   ]
  },
  {
   "cell_type": "code",
   "execution_count": 3,
   "id": "32fb3377-ac5c-4ec6-abdb-2e3ce7d945f9",
   "metadata": {},
   "outputs": [
    {
     "ename": "IndentationError",
     "evalue": "expected an indented block after function definition on line 5 (2185539003.py, line 7)",
     "output_type": "error",
     "traceback": [
      "\u001b[0;36m  Cell \u001b[0;32mIn[3], line 7\u001b[0;36m\u001b[0m\n\u001b[0;31m    print(\"Cube: {}\".format(n * n * n))\u001b[0m\n\u001b[0m    ^\u001b[0m\n\u001b[0;31mIndentationError\u001b[0m\u001b[0;31m:\u001b[0m expected an indented block after function definition on line 5\n"
     ]
    }
   ],
   "source": [
    "# importing Python multiprocessing module\n",
    "\n",
    "import multiprocessing\n",
    "\n",
    "def prnt_cu(n):\n",
    "\n",
    "print(\"Cube: {}\".format(n * n * n))\n",
    "\n",
    "def prnt_squ(n):\n",
    "\n",
    "print(\"Square: {}\".format(n * n))\n",
    "\n",
    "if __name__ == \"__main__\":\n",
    "\n",
    "proc1 = multiprocessing.Process(target=prnt_squ, args=(5, ))\n",
    "\n",
    "proc2 = multiprocessing.Process(target=prnt_cu, args=(5, ))\n",
    "\n",
    "proc1.start()\n",
    "\n",
    "\n",
    "proc2.start()\n",
    "\n",
    "\n",
    "proc1.join()\n",
    "\n",
    "\n",
    "proc2.join()\n",
    "\n",
    "\n",
    "print(\"Both Processes Completed!\")"
   ]
  },
  {
   "cell_type": "markdown",
   "id": "d3b3bd79-04b8-4145-9afd-5313b6d9273a",
   "metadata": {},
   "source": [
    "##Q4. What is a multiprocessing pool in python? Why is it used?"
   ]
  },
  {
   "cell_type": "markdown",
   "id": "f7e00e4d-7dd9-4d53-9ca8-5c7a40c0b538",
   "metadata": {},
   "source": [
    "Ans : Python multiprocessing Pool can be used for parallel execution of a function across multiple input values, distributing the input data across processes (data parallelism)."
   ]
  },
  {
   "cell_type": "markdown",
   "id": "c3e9e471-ddb7-4419-8455-bb9d4ba7bb40",
   "metadata": {},
   "source": [
    "##Q5. How can we create a pool of worker processes in python using the multiprocessing module?"
   ]
  },
  {
   "cell_type": "code",
   "execution_count": null,
   "id": "0db10b99-a057-4995-ab12-2205f110e252",
   "metadata": {},
   "outputs": [],
   "source": []
  },
  {
   "cell_type": "code",
   "execution_count": null,
   "id": "3ed417e5-2555-4bcd-bbc8-4b6366049e66",
   "metadata": {},
   "outputs": [],
   "source": []
  },
  {
   "cell_type": "code",
   "execution_count": null,
   "id": "9b14097d-7f24-4df1-ba9b-95754e9fe8b6",
   "metadata": {},
   "outputs": [],
   "source": []
  },
  {
   "cell_type": "code",
   "execution_count": null,
   "id": "d0dfbbe7-6395-471b-a428-7e4ed8bff774",
   "metadata": {},
   "outputs": [],
   "source": []
  },
  {
   "cell_type": "code",
   "execution_count": null,
   "id": "3a34e034-e705-46cb-b448-657440fb9af2",
   "metadata": {},
   "outputs": [],
   "source": []
  }
 ],
 "metadata": {
  "kernelspec": {
   "display_name": "Python 3 (ipykernel)",
   "language": "python",
   "name": "python3"
  },
  "language_info": {
   "codemirror_mode": {
    "name": "ipython",
    "version": 3
   },
   "file_extension": ".py",
   "mimetype": "text/x-python",
   "name": "python",
   "nbconvert_exporter": "python",
   "pygments_lexer": "ipython3",
   "version": "3.10.8"
  }
 },
 "nbformat": 4,
 "nbformat_minor": 5
}
